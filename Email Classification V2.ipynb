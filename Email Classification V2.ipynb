{
 "cells": [
  {
   "cell_type": "code",
   "execution_count": 1,
   "metadata": {},
   "outputs": [],
   "source": [
    "from sklearn import preprocessing\n",
    "import numpy as np\n",
    "import pandas as pd\n",
    "import os\n",
    "# Load required libraries\n",
    "import matplotlib.pyplot as plt\n",
    "import time\n",
    "import pickle\n",
    "import seaborn as sns\n",
    "import sys\n",
    "sys.setrecursionlimit(1500)\n",
    "%matplotlib inline"
   ]
  },
  {
   "cell_type": "code",
   "execution_count": 2,
   "metadata": {},
   "outputs": [],
   "source": [
    "NEWLINE = '\\n'\n",
    "\n",
    "HAM = 'ham'\n",
    "SPAM = 'spam'\n",
    "\n",
    "SOURCES = [\n",
    "    ('dataSets/nw/ham',      HAM),\n",
    "    ('dataSets/nw/spam',     SPAM)\n",
    "]\n",
    "\n",
    "SKIP_FILES = {'cmds'}\n",
    "\n",
    "\n",
    "def read_files(path):\n",
    "    '''\n",
    "    Generator of pairs (filename, filecontent)\n",
    "    for all files below path whose name is not in SKIP_FILES.\n",
    "    The content of the file is of the form:\n",
    "        header....\n",
    "        <emptyline>\n",
    "        body...\n",
    "    This skips the headers and returns body only.\n",
    "    '''\n",
    "    for root, dir_names, file_names in os.walk(path):\n",
    "        for path in dir_names:\n",
    "            read_files(os.path.join(root, path))\n",
    "        for file_name in file_names:\n",
    "            if file_name not in SKIP_FILES:\n",
    "                file_path = os.path.join(root, file_name)\n",
    "                if os.path.isfile(file_path):\n",
    "                    past_header, lines = True, []\n",
    "                    f = open(file_path, encoding=\"latin-1\")\n",
    "                    for line in f:\n",
    "                        if past_header:\n",
    "                            lines.append(line)\n",
    "                        elif line == NEWLINE:\n",
    "                            past_header = True\n",
    "                    f.close()\n",
    "                    content = NEWLINE.join(lines)\n",
    "                    yield file_path, content\n",
    "\n",
    "\n",
    "def build_data_frame(l, path, classification):\n",
    "    rows = []\n",
    "    index = []\n",
    "    for i, (file_name, text) in enumerate(read_files(path)):\n",
    "        rows.append({'text': text, 'class': classification})\n",
    "        index.append(file_name)\n",
    "   \n",
    "    data_frame = pd.DataFrame(rows, index=index)\n",
    "    return data_frame, len(rows)\n",
    "\n",
    "def load_data():\n",
    "    data = pd.DataFrame({'text': [], 'class': []})\n",
    "    l = 0\n",
    "    for path, classification in SOURCES:\n",
    "        data_frame, nrows = build_data_frame(l, path, classification)\n",
    "        data = data.append(data_frame)\n",
    "        l += nrows\n",
    "    data = data.reindex(np.random.permutation(data.index))\n",
    "    return data"
   ]
  },
  {
   "cell_type": "code",
   "execution_count": 3,
   "metadata": {},
   "outputs": [],
   "source": [
    "# We will load the Email spam dataset into Panadas dataframe here . \n",
    "data=load_data()"
   ]
  },
  {
   "cell_type": "code",
   "execution_count": 4,
   "metadata": {},
   "outputs": [
    {
     "name": "stdout",
     "output_type": "stream",
     "text": [
      "7495\n",
      "                                                   text class\n",
      "0     Subject: 8 th noms\\n\\n- - - - - - - - - - - - ...   ham\n",
      "1     Subject: save your money by getting an oem sof...  spam\n",
      "2     Subject: visual identity and logo now\\n\\nworki...  spam\n",
      "3     Subject: financial freedom\\n\\ndear friend ,\\n\\...  spam\n",
      "4     Subject: re : sales to panenergy at exxon clea...   ham\n",
      "...                                                 ...   ...\n",
      "7490  Subject: fre @ backgammon\\n\\nisrael approved p...  spam\n",
      "7491  Subject: gmt . inc .\\n\\ntom ,\\n\\nplease create...   ham\n",
      "7492  Subject: seagate 20 / 40 gb dat tape drive ( i...  spam\n",
      "7493                                        Subject: \\n  spam\n",
      "7494  Subject: re : executive program on credit risk...   ham\n",
      "\n",
      "[7495 rows x 2 columns]\n"
     ]
    }
   ],
   "source": [
    "data = data.sample(frac=1).reset_index(drop=True)\n",
    "print(len(data))\n",
    "print(data)"
   ]
  },
  {
   "cell_type": "code",
   "execution_count": 5,
   "metadata": {},
   "outputs": [],
   "source": [
    "f = lambda x: ' '.join([item for item in x.split() if item not in [\"Subject\",\"Subject:\",\"subject\"]])\n",
    "data[\"text\"] = data[\"text\"].apply(f)"
   ]
  },
  {
   "cell_type": "code",
   "execution_count": 6,
   "metadata": {},
   "outputs": [],
   "source": [
    "# We change the dataframe index from filenames to indices here. \n",
    "new_index=[x for x in range(len(data))]\n",
    "data.index=new_index"
   ]
  },
  {
   "cell_type": "code",
   "execution_count": 7,
   "metadata": {},
   "outputs": [
    {
     "name": "stdout",
     "output_type": "stream",
     "text": [
      "                                                   text class\n",
      "0     8 th noms - - - - - - - - - - - - - - - - - - ...   ham\n",
      "1     save your money by getting an oem software ! n...  spam\n",
      "2     visual identity and logo now working on your c...  spam\n",
      "3     financial freedom dear friend , how would you ...  spam\n",
      "4     re : sales to panenergy at exxon clear lake fo...   ham\n",
      "...                                                 ...   ...\n",
      "7490  fre @ backgammon israel approved plans this we...  spam\n",
      "7491  gmt . inc . tom , please create a spot ticket ...   ham\n",
      "7492  seagate 20 / 40 gb dat tape drive ( internal )...  spam\n",
      "7493                                                     spam\n",
      "7494  re : executive program on credit risk vince , ...   ham\n",
      "\n",
      "[7495 rows x 2 columns]\n"
     ]
    }
   ],
   "source": [
    "print(data)"
   ]
  },
  {
   "cell_type": "code",
   "execution_count": 8,
   "metadata": {},
   "outputs": [],
   "source": [
    "# We will load the Email spam dataset into Panadas dataframe here . \n",
    "SOURCES = [\n",
    "    ('dataSets/nw/testSet',      HAM)\n",
    "]\n",
    "test_data=load_data()"
   ]
  },
  {
   "cell_type": "code",
   "execution_count": 9,
   "metadata": {},
   "outputs": [],
   "source": [
    "from nltk.corpus import stopwords\n",
    "stop = stopwords.words('english')"
   ]
  },
  {
   "cell_type": "code",
   "execution_count": 10,
   "metadata": {},
   "outputs": [],
   "source": [
    "#We will add two more columns to our dataframe for tokenized text and token count.\n",
    "def token_count(row):\n",
    "    'returns token count'\n",
    "    text=row['tokenized_text']\n",
    "    length=len(text.split())\n",
    "    return length\n",
    "\n",
    "def tokenize(row):\n",
    "    \"tokenize the text using default space tokenizer\"\n",
    "    text=row['text']\n",
    "    lines=(line for line in text.split(NEWLINE) )\n",
    "    tokenized=\"\"\n",
    "    for sentence in lines:\n",
    "        tokenized+= \" \".join(tok for tok in sentence.split())\n",
    "    return tokenized"
   ]
  },
  {
   "cell_type": "code",
   "execution_count": 11,
   "metadata": {},
   "outputs": [
    {
     "data": {
      "text/html": [
       "<div>\n",
       "<style scoped>\n",
       "    .dataframe tbody tr th:only-of-type {\n",
       "        vertical-align: middle;\n",
       "    }\n",
       "\n",
       "    .dataframe tbody tr th {\n",
       "        vertical-align: top;\n",
       "    }\n",
       "\n",
       "    .dataframe thead th {\n",
       "        text-align: right;\n",
       "    }\n",
       "</style>\n",
       "<table border=\"1\" class=\"dataframe\">\n",
       "  <thead>\n",
       "    <tr style=\"text-align: right;\">\n",
       "      <th></th>\n",
       "      <th>text</th>\n",
       "      <th>class</th>\n",
       "      <th>tokenized_text</th>\n",
       "      <th>token_count</th>\n",
       "    </tr>\n",
       "  </thead>\n",
       "  <tbody>\n",
       "    <tr>\n",
       "      <td>0</td>\n",
       "      <td>8 th noms - - - - - - - - - - - - - - - - - - ...</td>\n",
       "      <td>ham</td>\n",
       "      <td>8 th noms - - - - - - - - - - - - - - - - - - ...</td>\n",
       "      <td>120</td>\n",
       "    </tr>\n",
       "    <tr>\n",
       "      <td>1</td>\n",
       "      <td>save your money by getting an oem software ! n...</td>\n",
       "      <td>spam</td>\n",
       "      <td>save your money by getting an oem software ! n...</td>\n",
       "      <td>34</td>\n",
       "    </tr>\n",
       "    <tr>\n",
       "      <td>2</td>\n",
       "      <td>visual identity and logo now working on your c...</td>\n",
       "      <td>spam</td>\n",
       "      <td>visual identity and logo now working on your c...</td>\n",
       "      <td>208</td>\n",
       "    </tr>\n",
       "    <tr>\n",
       "      <td>3</td>\n",
       "      <td>financial freedom dear friend , how would you ...</td>\n",
       "      <td>spam</td>\n",
       "      <td>financial freedom dear friend , how would you ...</td>\n",
       "      <td>187</td>\n",
       "    </tr>\n",
       "    <tr>\n",
       "      <td>4</td>\n",
       "      <td>re : sales to panenergy at exxon clear lake fo...</td>\n",
       "      <td>ham</td>\n",
       "      <td>re : sales to panenergy at exxon clear lake fo...</td>\n",
       "      <td>1375</td>\n",
       "    </tr>\n",
       "  </tbody>\n",
       "</table>\n",
       "</div>"
      ],
      "text/plain": [
       "                                                text class  \\\n",
       "0  8 th noms - - - - - - - - - - - - - - - - - - ...   ham   \n",
       "1  save your money by getting an oem software ! n...  spam   \n",
       "2  visual identity and logo now working on your c...  spam   \n",
       "3  financial freedom dear friend , how would you ...  spam   \n",
       "4  re : sales to panenergy at exxon clear lake fo...   ham   \n",
       "\n",
       "                                      tokenized_text  token_count  \n",
       "0  8 th noms - - - - - - - - - - - - - - - - - - ...          120  \n",
       "1  save your money by getting an oem software ! n...           34  \n",
       "2  visual identity and logo now working on your c...          208  \n",
       "3  financial freedom dear friend , how would you ...          187  \n",
       "4  re : sales to panenergy at exxon clear lake fo...         1375  "
      ]
     },
     "execution_count": 11,
     "metadata": {},
     "output_type": "execute_result"
    }
   ],
   "source": [
    "#We will use apply functions on dataframe to add the columns for :\n",
    "\n",
    "#* Tokenized text\n",
    "#* Token Count\n",
    "#* Language\n",
    "#Language column in this case is not necessary as we only have english text. However this approach \n",
    "# is good for properly dealing with multi lingual data.\n",
    "\n",
    "\n",
    "\n",
    "data['tokenized_text']=data.apply(tokenize, axis=1)\n",
    "data['token_count']=data.apply(token_count, axis=1)\n",
    "# Checking the data\n",
    "data.head()"
   ]
  },
  {
   "cell_type": "code",
   "execution_count": 12,
   "metadata": {},
   "outputs": [],
   "source": [
    "data['tokenized_text'] = data['tokenized_text'].apply(lambda x: ' '.join([word for word in x.split() if word not in (stop)]))"
   ]
  },
  {
   "cell_type": "code",
   "execution_count": 13,
   "metadata": {},
   "outputs": [],
   "source": [
    "from nltk.stem import *"
   ]
  },
  {
   "cell_type": "code",
   "execution_count": 14,
   "metadata": {},
   "outputs": [],
   "source": [
    "from nltk.stem.porter import *\n",
    "stemmer = PorterStemmer()"
   ]
  },
  {
   "cell_type": "code",
   "execution_count": 15,
   "metadata": {},
   "outputs": [],
   "source": [
    "data['tokenized_text'] = data['tokenized_text'].apply(lambda x: ' '.join([stemmer.stem(word) for word in x.split()]))"
   ]
  },
  {
   "cell_type": "code",
   "execution_count": 16,
   "metadata": {},
   "outputs": [
    {
     "data": {
      "text/html": [
       "<div>\n",
       "<style scoped>\n",
       "    .dataframe tbody tr th:only-of-type {\n",
       "        vertical-align: middle;\n",
       "    }\n",
       "\n",
       "    .dataframe tbody tr th {\n",
       "        vertical-align: top;\n",
       "    }\n",
       "\n",
       "    .dataframe thead th {\n",
       "        text-align: right;\n",
       "    }\n",
       "</style>\n",
       "<table border=\"1\" class=\"dataframe\">\n",
       "  <thead>\n",
       "    <tr style=\"text-align: right;\">\n",
       "      <th></th>\n",
       "      <th>text</th>\n",
       "      <th>class</th>\n",
       "      <th>tokenized_text</th>\n",
       "      <th>token_count</th>\n",
       "    </tr>\n",
       "  </thead>\n",
       "  <tbody>\n",
       "    <tr>\n",
       "      <td>0</td>\n",
       "      <td>8 th noms - - - - - - - - - - - - - - - - - - ...</td>\n",
       "      <td>ham</td>\n",
       "      <td>8 th nom - - - - - - - - - - - - - - - - - - -...</td>\n",
       "      <td>120</td>\n",
       "    </tr>\n",
       "    <tr>\n",
       "      <td>1</td>\n",
       "      <td>save your money by getting an oem software ! n...</td>\n",
       "      <td>spam</td>\n",
       "      <td>save money get oem softwar ! need softwar pc ?...</td>\n",
       "      <td>34</td>\n",
       "    </tr>\n",
       "    <tr>\n",
       "      <td>2</td>\n",
       "      <td>visual identity and logo now working on your c...</td>\n",
       "      <td>spam</td>\n",
       "      <td>visual ident logo work compani ' imag ? start ...</td>\n",
       "      <td>208</td>\n",
       "    </tr>\n",
       "    <tr>\n",
       "      <td>3</td>\n",
       "      <td>financial freedom dear friend , how would you ...</td>\n",
       "      <td>spam</td>\n",
       "      <td>financi freedom dear friend , would like make ...</td>\n",
       "      <td>187</td>\n",
       "    </tr>\n",
       "    <tr>\n",
       "      <td>4</td>\n",
       "      <td>re : sales to panenergy at exxon clear lake fo...</td>\n",
       "      <td>ham</td>\n",
       "      <td>: sale panenergi exxon clear lake 2 / 99 anita...</td>\n",
       "      <td>1375</td>\n",
       "    </tr>\n",
       "  </tbody>\n",
       "</table>\n",
       "</div>"
      ],
      "text/plain": [
       "                                                text class  \\\n",
       "0  8 th noms - - - - - - - - - - - - - - - - - - ...   ham   \n",
       "1  save your money by getting an oem software ! n...  spam   \n",
       "2  visual identity and logo now working on your c...  spam   \n",
       "3  financial freedom dear friend , how would you ...  spam   \n",
       "4  re : sales to panenergy at exxon clear lake fo...   ham   \n",
       "\n",
       "                                      tokenized_text  token_count  \n",
       "0  8 th nom - - - - - - - - - - - - - - - - - - -...          120  \n",
       "1  save money get oem softwar ! need softwar pc ?...           34  \n",
       "2  visual ident logo work compani ' imag ? start ...          208  \n",
       "3  financi freedom dear friend , would like make ...          187  \n",
       "4  : sale panenergi exxon clear lake 2 / 99 anita...         1375  "
      ]
     },
     "execution_count": 16,
     "metadata": {},
     "output_type": "execute_result"
    }
   ],
   "source": [
    "data.head()"
   ]
  },
  {
   "cell_type": "code",
   "execution_count": 17,
   "metadata": {},
   "outputs": [],
   "source": [
    "import nltk\n",
    "# nltk.download('wordnet')"
   ]
  },
  {
   "cell_type": "code",
   "execution_count": 18,
   "metadata": {},
   "outputs": [],
   "source": [
    "from nltk.stem.wordnet import WordNetLemmatizer"
   ]
  },
  {
   "cell_type": "code",
   "execution_count": 19,
   "metadata": {},
   "outputs": [],
   "source": [
    "lemmatizer = WordNetLemmatizer()"
   ]
  },
  {
   "cell_type": "code",
   "execution_count": 20,
   "metadata": {},
   "outputs": [],
   "source": [
    "data['tokenized_text'] = data['tokenized_text'].apply(lambda x: \" \".join([lemmatizer.lemmatize(word) for word in x.split()]))\n",
    "# test_data['tokenized_text'] = test_data['tokenized_text'].apply(lambda x: \" \".join([lemmatizer.lemmatize(word) for word in x.split()]))"
   ]
  },
  {
   "cell_type": "code",
   "execution_count": 21,
   "metadata": {},
   "outputs": [
    {
     "data": {
      "text/html": [
       "<div>\n",
       "<style scoped>\n",
       "    .dataframe tbody tr th:only-of-type {\n",
       "        vertical-align: middle;\n",
       "    }\n",
       "\n",
       "    .dataframe tbody tr th {\n",
       "        vertical-align: top;\n",
       "    }\n",
       "\n",
       "    .dataframe thead th {\n",
       "        text-align: right;\n",
       "    }\n",
       "</style>\n",
       "<table border=\"1\" class=\"dataframe\">\n",
       "  <thead>\n",
       "    <tr style=\"text-align: right;\">\n",
       "      <th></th>\n",
       "      <th>text</th>\n",
       "      <th>class</th>\n",
       "      <th>tokenized_text</th>\n",
       "      <th>token_count</th>\n",
       "    </tr>\n",
       "  </thead>\n",
       "  <tbody>\n",
       "    <tr>\n",
       "      <td>0</td>\n",
       "      <td>8 th noms - - - - - - - - - - - - - - - - - - ...</td>\n",
       "      <td>ham</td>\n",
       "      <td>8 th nom - - - - - - - - - - - - - - - - - - -...</td>\n",
       "      <td>120</td>\n",
       "    </tr>\n",
       "    <tr>\n",
       "      <td>1</td>\n",
       "      <td>save your money by getting an oem software ! n...</td>\n",
       "      <td>spam</td>\n",
       "      <td>save money get oem softwar ! need softwar pc ?...</td>\n",
       "      <td>34</td>\n",
       "    </tr>\n",
       "    <tr>\n",
       "      <td>2</td>\n",
       "      <td>visual identity and logo now working on your c...</td>\n",
       "      <td>spam</td>\n",
       "      <td>visual ident logo work compani ' imag ? start ...</td>\n",
       "      <td>208</td>\n",
       "    </tr>\n",
       "    <tr>\n",
       "      <td>3</td>\n",
       "      <td>financial freedom dear friend , how would you ...</td>\n",
       "      <td>spam</td>\n",
       "      <td>financi freedom dear friend , would like make ...</td>\n",
       "      <td>187</td>\n",
       "    </tr>\n",
       "    <tr>\n",
       "      <td>4</td>\n",
       "      <td>re : sales to panenergy at exxon clear lake fo...</td>\n",
       "      <td>ham</td>\n",
       "      <td>: sale panenergi exxon clear lake 2 / 99 anita...</td>\n",
       "      <td>1375</td>\n",
       "    </tr>\n",
       "  </tbody>\n",
       "</table>\n",
       "</div>"
      ],
      "text/plain": [
       "                                                text class  \\\n",
       "0  8 th noms - - - - - - - - - - - - - - - - - - ...   ham   \n",
       "1  save your money by getting an oem software ! n...  spam   \n",
       "2  visual identity and logo now working on your c...  spam   \n",
       "3  financial freedom dear friend , how would you ...  spam   \n",
       "4  re : sales to panenergy at exxon clear lake fo...   ham   \n",
       "\n",
       "                                      tokenized_text  token_count  \n",
       "0  8 th nom - - - - - - - - - - - - - - - - - - -...          120  \n",
       "1  save money get oem softwar ! need softwar pc ?...           34  \n",
       "2  visual ident logo work compani ' imag ? start ...          208  \n",
       "3  financi freedom dear friend , would like make ...          187  \n",
       "4  : sale panenergi exxon clear lake 2 / 99 anita...         1375  "
      ]
     },
     "execution_count": 21,
     "metadata": {},
     "output_type": "execute_result"
    }
   ],
   "source": [
    "data.head()"
   ]
  },
  {
   "cell_type": "code",
   "execution_count": 22,
   "metadata": {},
   "outputs": [
    {
     "name": "stdout",
     "output_type": "stream",
     "text": [
      "total emails :  7495\n",
      "total spam emails :  4499\n",
      "total normal emails :  2996\n"
     ]
    }
   ],
   "source": [
    "# Lets look at some information related to the data\n",
    "df=data\n",
    "print(\"total emails : \", len(df))\n",
    "print  (\"total spam emails : \", len(df[df['class']=='spam']) )\n",
    "print  (\"total normal emails : \", len(df[df['class']=='ham']) )"
   ]
  },
  {
   "cell_type": "code",
   "execution_count": 23,
   "metadata": {},
   "outputs": [
    {
     "data": {
      "text/plain": [
       "Text(0.5, 1.0, 'Plot of Emails count with languages and email type')"
      ]
     },
     "execution_count": 23,
     "metadata": {},
     "output_type": "execute_result"
    },
    {
     "data": {
      "image/png": "[encoded data removed]",
      "text/plain": [
       "<Figure size 432x288 with 1 Axes>"
      ]
     },
     "metadata": {
      "needs_background": "light"
     },
     "output_type": "display_data"
    }
   ],
   "source": [
    "data['lang']='en'\n",
    "df1 = df.groupby(['lang','class'])['class','lang'].size().unstack()\n",
    "\n",
    "ax=df1.plot(kind='bar')\n",
    "ax.set_ylabel(\"Total Emails\")\n",
    "ax.set_xlabel(\"Language\")\n",
    "ax.set_title(\"Plot of Emails count with languages and email type\")"
   ]
  },
  {
   "cell_type": "code",
   "execution_count": 24,
   "metadata": {},
   "outputs": [],
   "source": [
    "# We randomize the rows to subset the dataframe\n",
    "df.reset_index(inplace=True)\n",
    "df=df.reindex(np.random.permutation(df.index))"
   ]
  },
  {
   "cell_type": "code",
   "execution_count": 25,
   "metadata": {},
   "outputs": [
    {
     "data": {
      "text/html": [
       "<div>\n",
       "<style scoped>\n",
       "    .dataframe tbody tr th:only-of-type {\n",
       "        vertical-align: middle;\n",
       "    }\n",
       "\n",
       "    .dataframe tbody tr th {\n",
       "        vertical-align: top;\n",
       "    }\n",
       "\n",
       "    .dataframe thead th {\n",
       "        text-align: right;\n",
       "    }\n",
       "</style>\n",
       "<table border=\"1\" class=\"dataframe\">\n",
       "  <thead>\n",
       "    <tr style=\"text-align: right;\">\n",
       "      <th></th>\n",
       "      <th>index</th>\n",
       "      <th>text</th>\n",
       "      <th>class</th>\n",
       "      <th>tokenized_text</th>\n",
       "      <th>token_count</th>\n",
       "      <th>lang</th>\n",
       "    </tr>\n",
       "  </thead>\n",
       "  <tbody>\n",
       "    <tr>\n",
       "      <td>395</td>\n",
       "      <td>395</td>\n",
       "      <td>aggressive investors and traders shouid be wat...</td>\n",
       "      <td>spam</td>\n",
       "      <td>aggress investor trader shouid watch \" stock w...</td>\n",
       "      <td>620</td>\n",
       "      <td>en</td>\n",
       "    </tr>\n",
       "    <tr>\n",
       "      <td>391</td>\n",
       "      <td>391</td>\n",
       "      <td>off - site : john griebling ' s organization a...</td>\n",
       "      <td>ham</td>\n",
       "      <td>- site : john griebl ' organ research group je...</td>\n",
       "      <td>254</td>\n",
       "      <td>en</td>\n",
       "    </tr>\n",
       "    <tr>\n",
       "      <td>647</td>\n",
       "      <td>647</td>\n",
       "      <td>to valentin ' s shop customers ! dear customer...</td>\n",
       "      <td>spam</td>\n",
       "      <td>valentin ' shop custom ! dear custom ! updat s...</td>\n",
       "      <td>49</td>\n",
       "      <td>en</td>\n",
       "    </tr>\n",
       "    <tr>\n",
       "      <td>1783</td>\n",
       "      <td>1783</td>\n",
       "      <td>3 / 4 / 2000 and following noms hpl can ' t ta...</td>\n",
       "      <td>ham</td>\n",
       "      <td>3 / 4 / 2000 follow nom hpl ' take extra 15 mm...</td>\n",
       "      <td>303</td>\n",
       "      <td>en</td>\n",
       "    </tr>\n",
       "    <tr>\n",
       "      <td>5358</td>\n",
       "      <td>5358</td>\n",
       "      <td>purchase of license for software hello all ! p...</td>\n",
       "      <td>ham</td>\n",
       "      <td>purchas licens softwar hello ! plea order visu...</td>\n",
       "      <td>98</td>\n",
       "      <td>en</td>\n",
       "    </tr>\n",
       "  </tbody>\n",
       "</table>\n",
       "</div>"
      ],
      "text/plain": [
       "      index                                               text class  \\\n",
       "395     395  aggressive investors and traders shouid be wat...  spam   \n",
       "391     391  off - site : john griebling ' s organization a...   ham   \n",
       "647     647  to valentin ' s shop customers ! dear customer...  spam   \n",
       "1783   1783  3 / 4 / 2000 and following noms hpl can ' t ta...   ham   \n",
       "5358   5358  purchase of license for software hello all ! p...   ham   \n",
       "\n",
       "                                         tokenized_text  token_count lang  \n",
       "395   aggress investor trader shouid watch \" stock w...          620   en  \n",
       "391   - site : john griebl ' organ research group je...          254   en  \n",
       "647   valentin ' shop custom ! dear custom ! updat s...           49   en  \n",
       "1783  3 / 4 / 2000 follow nom hpl ' take extra 15 mm...          303   en  \n",
       "5358  purchas licens softwar hello ! plea order visu...           98   en  "
      ]
     },
     "execution_count": 25,
     "metadata": {},
     "output_type": "execute_result"
    }
   ],
   "source": [
    "df.head()"
   ]
  },
  {
   "cell_type": "code",
   "execution_count": 26,
   "metadata": {},
   "outputs": [
    {
     "name": "stdout",
     "output_type": "stream",
     "text": [
      "total emails for unseen test data :  1000\n",
      "\t total spam emails for enron  :  601\n",
      "\t total normal emails for enron  :  399\n",
      "\n",
      "total emails for model training/validation :  6495\n",
      "\t total spam emails for enron  :  3898\n",
      "\t total normal emails for enron  :  2597\n"
     ]
    }
   ],
   "source": [
    "len_unseen = 1000\n",
    "df_unseen_test= df.iloc[:len_unseen]\n",
    "df_model = df.iloc[len_unseen:]\n",
    "\n",
    "print('total emails for unseen test data : ', len(df_unseen_test))\n",
    "print('\\t total spam emails for enron  : ', len(df_unseen_test[(df_unseen_test['lang']=='en') & (df_unseen_test['class']=='spam')]))\n",
    "print('\\t total normal emails for enron  : ', len(df_unseen_test[(df_unseen_test['lang']=='en') & (df_unseen_test['class']=='ham')]))\n",
    "print()\n",
    "\n",
    "print('total emails for model training/validation : ', len(df_model))\n",
    "print('\\t total spam emails for enron  : ', len(df_model[(df_model['lang']=='en') & (df_model['class']=='spam')]))\n",
    "print('\\t total normal emails for enron  : ', len(df_model[(df_model['lang']=='en') & (df_model['class']=='ham')]))"
   ]
  },
  {
   "cell_type": "code",
   "execution_count": 27,
   "metadata": {},
   "outputs": [
    {
     "data": {
      "text/plain": [
       "Text(0.5, 1.0, 'Token length Vs Frequency for Enron Spam Emails')"
      ]
     },
     "execution_count": 27,
     "metadata": {},
     "output_type": "execute_result"
    },
    {
     "data": {
      "image/png": "[encoded data removed]",
      "text/plain": [
       "<Figure size 864x432 with 2 Axes>"
      ]
     },
     "metadata": {
      "needs_background": "light"
     },
     "output_type": "display_data"
    }
   ],
   "source": [
    "# Load required libraries\n",
    "import matplotlib.pyplot as plt\n",
    "bins = [0,100,200,300,350,400,500,600,800,1000,1500,2000,3000,4000,5000,6000,10000,20000]\n",
    "\n",
    "\n",
    "fig, axes = plt.subplots(nrows=1, ncols=2,figsize=(12, 6))\n",
    "fig.subplots_adjust(hspace=.5)\n",
    "\n",
    "df_sub=df[ (df['lang']=='en') & (df['class']=='ham')]\n",
    "df1 = df_sub.groupby(pd.cut(df_sub['token_count'], bins=bins)).token_count.count()\n",
    "df1.index=[a.right for a in df1.index]\n",
    "res1=df1.plot(kind='bar',ax=axes[0])\n",
    "res1.set_xlabel('Email tokens length')\n",
    "res1.set_ylabel('Frequency')\n",
    "res1.set_title('Token length Vs Frequency for Enron Normal Emails')\n",
    "\n",
    "\n",
    "df_sub=df[ (df['lang']=='en') & (df['class']=='spam')]\n",
    "df1 = df_sub.groupby(pd.cut(df_sub['token_count'], bins=bins)).token_count.count()\n",
    "df1.index=[a.right for a in df1.index]\n",
    "res2=df1.plot(kind='bar',ax=axes[1])\n",
    "res2.set_xlabel('Email tokens length')\n",
    "res2.set_ylabel('Frequency')\n",
    "res2.set_title('Token length Vs Frequency for Enron Spam Emails')"
   ]
  },
  {
   "cell_type": "code",
   "execution_count": 28,
   "metadata": {},
   "outputs": [
    {
     "name": "stderr",
     "output_type": "stream",
     "text": [
      "Using TensorFlow backend.\n"
     ]
    }
   ],
   "source": [
    "import keras\n",
    "\n",
    "from keras.layers import Input, Dense\n",
    "from keras.models import Model,load_model\n",
    "from keras.layers import Input, Dense\n",
    "from keras.models import Model\n",
    "from keras import regularizers\n",
    "\n",
    "from keras.preprocessing.text import Tokenizer\n",
    "from keras.models import Sequential\n",
    "from keras.layers import Dense, Dropout, Activation\n",
    "from keras.callbacks import ModelCheckpoint, TensorBoard"
   ]
  },
  {
   "cell_type": "code",
   "execution_count": 29,
   "metadata": {},
   "outputs": [
    {
     "name": "stderr",
     "output_type": "stream",
     "text": [
      "C:\\Users\\pjalp\\Anaconda3\\lib\\site-packages\\sklearn\\externals\\joblib\\__init__.py:15: DeprecationWarning: sklearn.externals.joblib is deprecated in 0.21 and will be removed in 0.23. Please import this functionality directly from joblib, which can be installed with: pip install joblib. If this warning is raised when loading pickled models, you may need to re-serialize those models with scikit-learn 0.21+.\n",
      "  warnings.warn(msg, category=DeprecationWarning)\n"
     ]
    }
   ],
   "source": [
    "import sklearn\n",
    "from sklearn import metrics\n",
    "from sklearn import svm\n",
    "from sklearn.externals import joblib\n",
    "from sklearn.preprocessing import LabelEncoder"
   ]
  },
  {
   "cell_type": "code",
   "execution_count": 30,
   "metadata": {},
   "outputs": [],
   "source": [
    "# max number of features\n",
    "num_max = 4000"
   ]
  },
  {
   "cell_type": "code",
   "execution_count": 31,
   "metadata": {},
   "outputs": [],
   "source": [
    "import time\n",
    "\n",
    "def train_tf_idf_model(texts):\n",
    "    \"train tf idf model \"\n",
    "    tic = time.process_time()\n",
    "    \n",
    "    tok = Tokenizer(num_words=num_max)\n",
    "    tok.fit_on_texts(texts)\n",
    "    toc = time.process_time()\n",
    "\n",
    "    print (\" -----total Computation time = \" + str((toc - tic)) + \" seconds\")\n",
    "    return tok\n",
    "\n",
    "def prepare_model_input(tfidf_model,dataframe,mode='tfidf'):\n",
    "    \n",
    "    \"function to prepare data input features using tfidf model\"\n",
    "    tic = time.process_time()\n",
    "    le = LabelEncoder()\n",
    "    sample_texts = list(dataframe['tokenized_text'])\n",
    "    sample_texts = [' '.join(x.split()) for x in sample_texts]\n",
    "    \n",
    "    targets=list(dataframe['class'])\n",
    "    targets = [1. if x=='spam' else 0. for x in targets]\n",
    "    sample_target = le.fit_transform(targets)\n",
    "    \n",
    "    if mode=='tfidf':\n",
    "        sample_texts=tfidf_model.texts_to_matrix(sample_texts,mode='tfidf')\n",
    "    else:\n",
    "        sample_texts=tfidf_model.texts_to_matrix(sample_texts)\n",
    "    \n",
    "    toc = time.process_time()\n",
    "    \n",
    "    print('shape of Class: ', sample_target.shape)\n",
    "    print('shape of data: ', sample_texts.shape)\n",
    "    \n",
    "    print (\" -----total Computation time for preparing model data = \" + str((toc - tic)) + \" seconds\")\n",
    "    \n",
    "    return sample_texts,sample_target"
   ]
  },
  {
   "cell_type": "code",
   "execution_count": 32,
   "metadata": {},
   "outputs": [
    {
     "name": "stdout",
     "output_type": "stream",
     "text": [
      " -----total Computation time = 1.0 seconds\n"
     ]
    }
   ],
   "source": [
    "texts=list(df_model['tokenized_text'])\n",
    "tfidf_model=train_tf_idf_model(texts)"
   ]
  },
  {
   "cell_type": "code",
   "execution_count": 33,
   "metadata": {},
   "outputs": [
    {
     "name": "stdout",
     "output_type": "stream",
     "text": [
      "shape of Class:  (6495,)\n",
      "shape of data:  (6495, 4000)\n",
      " -----total Computation time for preparing model data = 2.640625 seconds\n"
     ]
    }
   ],
   "source": [
    "# prepare model input data\n",
    "mat_texts,tags=prepare_model_input(tfidf_model,df_model,mode='tfidf')"
   ]
  },
  {
   "cell_type": "code",
   "execution_count": null,
   "metadata": {},
   "outputs": [],
   "source": []
  },
  {
   "cell_type": "code",
   "execution_count": 34,
   "metadata": {},
   "outputs": [
    {
     "name": "stdout",
     "output_type": "stream",
     "text": [
      "train data shape:  (3897, 4000) (3897,)\n",
      "validation data shape : (2598, 4000) (2598,)\n"
     ]
    }
   ],
   "source": [
    "#Splitting Training and Testing Data\n",
    "\n",
    "from sklearn.model_selection import train_test_split\n",
    "\n",
    "X_train, X_val, y_train, y_val = train_test_split(mat_texts, tags, test_size=0.40)\n",
    "print ('train data shape: ', X_train.shape, y_train.shape)\n",
    "print ('validation data shape :' , X_val.shape, y_val.shape)"
   ]
  },
  {
   "cell_type": "code",
   "execution_count": 35,
   "metadata": {},
   "outputs": [],
   "source": [
    "## Define and initialize the network\n",
    "\n",
    "model_save_path=\"checkpoints/spam_detector_enron_model.h5\""
   ]
  },
  {
   "cell_type": "code",
   "execution_count": 36,
   "metadata": {},
   "outputs": [],
   "source": [
    "import datetime\n",
    "def get_simple_model():\n",
    "    model = Sequential()\n",
    "    model.add(Dense(512, activation='relu', input_shape=(num_max,)))\n",
    "    model.add(Dropout(0.5))\n",
    "    model.add(Dense(256, activation='relu'))\n",
    "    model.add(Dropout(0.5))\n",
    "    model.add(Dense(1, activation='sigmoid'))\n",
    "    model.summary()\n",
    "    model.compile(loss='binary_crossentropy',\n",
    "              optimizer='adam',\n",
    "              metrics=['acc',keras.metrics.binary_accuracy])\n",
    "    print('compile done')\n",
    "    return model\n",
    "\n",
    "def check_model(model,x,y,epochs=2):\n",
    "    history=model.fit(x,y,batch_size=32,epochs=epochs,verbose=1,shuffle=True,validation_split=0.2,\n",
    "              callbacks=[checkpointer, tensorboard]).history\n",
    "    return history\n",
    "\n",
    "\n",
    "def check_model2(model,x_train,y_train,x_val,y_val,epochs=10):\n",
    "    history=model.fit(x_train,y_train,batch_size=64,\n",
    "                      epochs=epochs,verbose=1,\n",
    "                      shuffle=True,\n",
    "                      validation_data=(x_val, y_val)).history\n",
    "    return history\n",
    "\n",
    "# define checkpointer\n",
    "checkpointer = ModelCheckpoint(filepath=model_save_path,\n",
    "                               verbose=1,\n",
    "                               save_best_only=True)    \n",
    "\n",
    "\n",
    "# define tensorboard\n",
    "tensorboard = TensorBoard(log_dir = os.path.join(\"logs\",\"fit\",datetime.datetime.now().strftime(\"%Y%m%d-%H%M%S\")),\n",
    "                          histogram_freq=0,\n",
    "                          write_graph=True,\n",
    "                          write_images=True)\n",
    "\n",
    "\n",
    "\n",
    "\n",
    "# define the predict function for the deep learning model for later use\n",
    "def predict(data):\n",
    "    result=model.predict(data)\n",
    "    prediction = [round(x[0]) for x in result]\n",
    "    return prediction"
   ]
  },
  {
   "cell_type": "code",
   "execution_count": 37,
   "metadata": {},
   "outputs": [
    {
     "name": "stdout",
     "output_type": "stream",
     "text": [
      "Model: \"sequential_1\"\n",
      "_________________________________________________________________\n",
      "Layer (type)                 Output Shape              Param #   \n",
      "=================================================================\n",
      "dense_1 (Dense)              (None, 512)               2048512   \n",
      "_________________________________________________________________\n",
      "dropout_1 (Dropout)          (None, 512)               0         \n",
      "_________________________________________________________________\n",
      "dense_2 (Dense)              (None, 256)               131328    \n",
      "_________________________________________________________________\n",
      "dropout_2 (Dropout)          (None, 256)               0         \n",
      "_________________________________________________________________\n",
      "dense_3 (Dense)              (None, 1)                 257       \n",
      "=================================================================\n",
      "Total params: 2,180,097\n",
      "Trainable params: 2,180,097\n",
      "Non-trainable params: 0\n",
      "_________________________________________________________________\n",
      "compile done\n",
      "Train on 3897 samples, validate on 2598 samples\n",
      "Epoch 1/10\n",
      "3897/3897 [==============================] - 3s 777us/step - loss: 0.1939 - acc: 0.9264 - binary_accuracy: 0.9264 - val_loss: 0.0963 - val_acc: 0.9842 - val_binary_accuracy: 0.9842\n",
      "Epoch 2/10\n",
      "3897/3897 [==============================] - 2s 561us/step - loss: 0.0210 - acc: 0.9946 - binary_accuracy: 0.9946 - val_loss: 0.0939 - val_acc: 0.9834 - val_binary_accuracy: 0.9834\n",
      "Epoch 3/10\n",
      "3897/3897 [==============================] - 2s 525us/step - loss: 0.0171 - acc: 0.9964 - binary_accuracy: 0.9964 - val_loss: 0.1362 - val_acc: 0.9861 - val_binary_accuracy: 0.9861\n",
      "Epoch 4/10\n",
      "3897/3897 [==============================] - 2s 527us/step - loss: 0.0116 - acc: 0.9979 - binary_accuracy: 0.9979 - val_loss: 0.1811 - val_acc: 0.9704 - val_binary_accuracy: 0.9704\n",
      "Epoch 5/10\n",
      "3897/3897 [==============================] - 2s 521us/step - loss: 0.0210 - acc: 0.9987 - binary_accuracy: 0.9987 - val_loss: 0.1488 - val_acc: 0.9815 - val_binary_accuracy: 0.9815\n",
      "Epoch 6/10\n",
      "3897/3897 [==============================] - 2s 543us/step - loss: 0.0285 - acc: 0.9985 - binary_accuracy: 0.9985 - val_loss: 0.1660 - val_acc: 0.9796 - val_binary_accuracy: 0.9796\n",
      "Epoch 7/10\n",
      "3897/3897 [==============================] - 2s 524us/step - loss: 0.0086 - acc: 0.9995 - binary_accuracy: 0.9995 - val_loss: 0.1380 - val_acc: 0.9792 - val_binary_accuracy: 0.9792\n",
      "Epoch 8/10\n",
      "3897/3897 [==============================] - 2s 525us/step - loss: 0.0017 - acc: 0.9997 - binary_accuracy: 0.9997 - val_loss: 0.1492 - val_acc: 0.9796 - val_binary_accuracy: 0.9796\n",
      "Epoch 9/10\n",
      "3897/3897 [==============================] - 2s 536us/step - loss: 0.0063 - acc: 0.9992 - binary_accuracy: 0.9992 - val_loss: 0.1633 - val_acc: 0.9792 - val_binary_accuracy: 0.9792\n",
      "Epoch 10/10\n",
      "3897/3897 [==============================] - 2s 549us/step - loss: 0.0015 - acc: 0.9997 - binary_accuracy: 0.9997 - val_loss: 0.1882 - val_acc: 0.9800 - val_binary_accuracy: 0.9800\n"
     ]
    }
   ],
   "source": [
    "# get the compiled model\n",
    "model = get_simple_model()\n",
    "\n",
    "# load history\n",
    "# history=check_model(m,mat_texts,tags,epochs=10)\n",
    "history=check_model2(model,X_train,y_train,X_val,y_val,epochs=10)"
   ]
  },
  {
   "cell_type": "code",
   "execution_count": 38,
   "metadata": {},
   "outputs": [
    {
     "data": {
      "image/png": "[encoded data removed]",
      "text/plain": [
       "<Figure size 432x288 with 1 Axes>"
      ]
     },
     "metadata": {
      "needs_background": "light"
     },
     "output_type": "display_data"
    }
   ],
   "source": [
    "# plot the loss on train and validation data\n",
    "plt.plot(history['loss'])\n",
    "plt.plot(history['val_loss'])\n",
    "plt.title('Email Spam Filter Model loss')\n",
    "plt.ylabel('loss')\n",
    "plt.xlabel('epoch')\n",
    "plt.legend(['train', 'test'], loc='upper right');"
   ]
  },
  {
   "cell_type": "code",
   "execution_count": 39,
   "metadata": {},
   "outputs": [],
   "source": [
    "##RANDOM FOREST MODEL\n"
   ]
  },
  {
   "cell_type": "code",
   "execution_count": 40,
   "metadata": {},
   "outputs": [],
   "source": [
    "from sklearn.ensemble import RandomForestClassifier"
   ]
  },
  {
   "cell_type": "code",
   "execution_count": 41,
   "metadata": {},
   "outputs": [
    {
     "data": {
      "text/plain": [
       "RandomForestClassifier(bootstrap=True, class_weight=None, criterion='gini',\n",
       "                       max_depth=None, max_features='auto', max_leaf_nodes=None,\n",
       "                       min_impurity_decrease=0.0, min_impurity_split=None,\n",
       "                       min_samples_leaf=1, min_samples_split=2,\n",
       "                       min_weight_fraction_leaf=0.0, n_estimators=1000,\n",
       "                       n_jobs=None, oob_score=False, random_state=5, verbose=0,\n",
       "                       warm_start=False)"
      ]
     },
     "execution_count": 41,
     "metadata": {},
     "output_type": "execute_result"
    }
   ],
   "source": [
    "spam_model_rf = RandomForestClassifier(n_estimators=1000,random_state=5)\n",
    "\n",
    "# Train the Classifier to take the training features and learn how they relate\n",
    "# to the training y (the species)\n",
    "spam_model_rf.fit(X_train,y_train)"
   ]
  },
  {
   "cell_type": "code",
   "execution_count": 42,
   "metadata": {},
   "outputs": [],
   "source": [
    "##EVALUATE MODEL PERFORMANCE"
   ]
  },
  {
   "cell_type": "code",
   "execution_count": 43,
   "metadata": {},
   "outputs": [
    {
     "name": "stdout",
     "output_type": "stream",
     "text": [
      "shape of Class:  (1000,)\n",
      "shape of data:  (1000, 4000)\n",
      " -----total Computation time for preparing model data = 0.21875 seconds\n"
     ]
    }
   ],
   "source": [
    "sample_texts,sample_target=prepare_model_input(tfidf_model,df_unseen_test,mode='')"
   ]
  },
  {
   "cell_type": "code",
   "execution_count": 44,
   "metadata": {},
   "outputs": [],
   "source": [
    "model_dict={}\n",
    "model_dict['random_forest']=spam_model_rf\n",
    "model_dict['neural_networks']=model"
   ]
  },
  {
   "cell_type": "code",
   "execution_count": 45,
   "metadata": {},
   "outputs": [],
   "source": [
    "\n",
    "def getResults(model_dict,sample_texts,sample_target):\n",
    "    '''\n",
    "    Get results from different models\n",
    "    '''\n",
    "    results=[]\n",
    "    \n",
    "    results_cm={}\n",
    "    \n",
    "    for name,model in model_dict.items():\n",
    "#         print(name)\n",
    "        tic1 = time.process_time()\n",
    "        if name in 'neural_networks':\n",
    "            predicted_sample = predict(sample_texts)\n",
    "            cm=sklearn.metrics.confusion_matrix(sample_target, predicted_sample)\n",
    "        else:    \n",
    "            predicted_sample = model.predict(sample_texts)\n",
    "            cm=sklearn.metrics.confusion_matrix(sample_target, predicted_sample.round())\n",
    "            \n",
    "        toc1 = time.process_time()\n",
    "#         print(predicted_sample)\n",
    "\n",
    "        \n",
    "        results_cm[name]=cm\n",
    "        \n",
    "        total=len(predicted_sample)\n",
    "        TP = cm[0][0]\n",
    "        FP = cm[0][1]\n",
    "        FN = cm[1][0]\n",
    "        TN = cm[1][1]\n",
    "        \n",
    "        time_taken=round(toc1 - tic1,4)\n",
    "        res=sklearn.metrics.precision_recall_fscore_support(sample_target, predicted_sample)\n",
    "        accuracy=sklearn.metrics.accuracy_score(sample_target, predicted_sample)\n",
    "        results.append([name,np.mean(res[0]),np.mean(res[1]),np.mean(res[2]),accuracy,TP,FP,FN,TN,str(time_taken)] )\n",
    "        \n",
    "    \n",
    "    df_cols=['model','precision','recall','f1_score','Accuracy','TP','FP','FN','TN','execution_time']\n",
    "    result_df=pd.DataFrame(results,columns=df_cols)\n",
    "    \n",
    "    return result_df,results_cm\n",
    "    "
   ]
  },
  {
   "cell_type": "code",
   "execution_count": 46,
   "metadata": {},
   "outputs": [
    {
     "data": {
      "text/html": [
       "<div>\n",
       "<style scoped>\n",
       "    .dataframe tbody tr th:only-of-type {\n",
       "        vertical-align: middle;\n",
       "    }\n",
       "\n",
       "    .dataframe tbody tr th {\n",
       "        vertical-align: top;\n",
       "    }\n",
       "\n",
       "    .dataframe thead th {\n",
       "        text-align: right;\n",
       "    }\n",
       "</style>\n",
       "<table border=\"1\" class=\"dataframe\">\n",
       "  <thead>\n",
       "    <tr style=\"text-align: right;\">\n",
       "      <th></th>\n",
       "      <th>model</th>\n",
       "      <th>precision</th>\n",
       "      <th>recall</th>\n",
       "      <th>f1_score</th>\n",
       "      <th>Accuracy</th>\n",
       "      <th>TP</th>\n",
       "      <th>FP</th>\n",
       "      <th>FN</th>\n",
       "      <th>TN</th>\n",
       "      <th>execution_time</th>\n",
       "    </tr>\n",
       "  </thead>\n",
       "  <tbody>\n",
       "    <tr>\n",
       "      <td>0</td>\n",
       "      <td>random_forest</td>\n",
       "      <td>0.918022</td>\n",
       "      <td>0.880573</td>\n",
       "      <td>0.892643</td>\n",
       "      <td>0.901</td>\n",
       "      <td>311</td>\n",
       "      <td>88</td>\n",
       "      <td>11</td>\n",
       "      <td>590</td>\n",
       "      <td>0.5625</td>\n",
       "    </tr>\n",
       "    <tr>\n",
       "      <td>1</td>\n",
       "      <td>neural_networks</td>\n",
       "      <td>0.979100</td>\n",
       "      <td>0.971188</td>\n",
       "      <td>0.974779</td>\n",
       "      <td>0.976</td>\n",
       "      <td>378</td>\n",
       "      <td>21</td>\n",
       "      <td>3</td>\n",
       "      <td>598</td>\n",
       "      <td>1.1094</td>\n",
       "    </tr>\n",
       "  </tbody>\n",
       "</table>\n",
       "</div>"
      ],
      "text/plain": [
       "             model  precision    recall  f1_score  Accuracy   TP  FP  FN   TN  \\\n",
       "0    random_forest   0.918022  0.880573  0.892643     0.901  311  88  11  590   \n",
       "1  neural_networks   0.979100  0.971188  0.974779     0.976  378  21   3  598   \n",
       "\n",
       "  execution_time  \n",
       "0         0.5625  \n",
       "1         1.1094  "
      ]
     },
     "execution_count": 46,
     "metadata": {},
     "output_type": "execute_result"
    }
   ],
   "source": [
    "result_df,results_cm= getResults(model_dict,sample_texts,sample_target)\n",
    "result_df"
   ]
  },
  {
   "cell_type": "code",
   "execution_count": 47,
   "metadata": {},
   "outputs": [
    {
     "name": "stdout",
     "output_type": "stream",
     "text": [
      "RANDOM FOREST:\n",
      "HAM Misclassification Rate:  0.12979351032448377\n",
      "SPAM Misclassification Rate:  0.034161490683229816\n"
     ]
    }
   ],
   "source": [
    "#NN SMR AND HMR COMPUTATION\n",
    "result_df.iloc[0][5]\n",
    "HMR = float(result_df.iloc[0][6] / (result_df.iloc[0][8] + result_df.iloc[0][6]))\n",
    "SMR = float(result_df.iloc[0][7] / (result_df.iloc[0][5] + result_df.iloc[0][7]))\n",
    "\n",
    "print(\"RANDOM FOREST:\")\n",
    "print(\"HAM Misclassification Rate: \",HMR)\n",
    "print(\"SPAM Misclassification Rate: \", SMR)"
   ]
  },
  {
   "cell_type": "code",
   "execution_count": 48,
   "metadata": {},
   "outputs": [
    {
     "name": "stdout",
     "output_type": "stream",
     "text": [
      "NEURAL NETWORK:\n",
      "HAM Misclassification Rate:  0.033925686591276254\n",
      "SPAM Misclassification Rate:  0.007874015748031496\n"
     ]
    }
   ],
   "source": [
    "#NN SMR AND HMR COMPUTATION\n",
    "result_df.iloc[0][5]\n",
    "HMR = float(result_df.iloc[1][6] / (result_df.iloc[1][8] + result_df.iloc[1][6]))\n",
    "SMR = float(result_df.iloc[1][7] / (result_df.iloc[1][5] + result_df.iloc[1][7]))\n",
    "\n",
    "print(\"NEURAL NETWORK:\")\n",
    "print(\"HAM Misclassification Rate: \",HMR)\n",
    "print(\"SPAM Misclassification Rate: \", SMR)"
   ]
  },
  {
   "cell_type": "code",
   "execution_count": 49,
   "metadata": {},
   "outputs": [],
   "source": [
    "def plot_heatmap(cm,title):\n",
    "    df_cm2 = pd.DataFrame(cm, index = ['normal', 'spam'])\n",
    "    df_cm2.columns=['normal','spam']\n",
    "\n",
    "    ax = plt.axes()\n",
    "    sns.heatmap(df_cm2, annot=True, fmt=\"d\", linewidths=.5,ax=ax)\n",
    "    ax.set_title(title)\n",
    "    plt.show()\n",
    "\n",
    "    \n",
    "    return"
   ]
  },
  {
   "cell_type": "code",
   "execution_count": 50,
   "metadata": {},
   "outputs": [
    {
     "data": {
      "image/png": "[encoded data removed]",
      "text/plain": [
       "<Figure size 432x288 with 2 Axes>"
      ]
     },
     "metadata": {
      "needs_background": "light"
     },
     "output_type": "display_data"
    }
   ],
   "source": [
    "plot_heatmap(results_cm['neural_networks'],'Neural Networks')"
   ]
  },
  {
   "cell_type": "code",
   "execution_count": 51,
   "metadata": {},
   "outputs": [
    {
     "data": {
      "image/png": "[encoded data removed]",
      "text/plain": [
       "<Figure size 432x288 with 2 Axes>"
      ]
     },
     "metadata": {
      "needs_background": "light"
     },
     "output_type": "display_data"
    }
   ],
   "source": [
    "plot_heatmap(results_cm['random_forest'],'Random Forest')"
   ]
  }
 ],
 "metadata": {
  "kernelspec": {
   "display_name": "Python 3",
   "language": "python",
   "name": "python3"
  },
  "language_info": {
   "codemirror_mode": {
    "name": "ipython",
    "version": 3
   },
   "file_extension": ".py",
   "mimetype": "text/x-python",
   "name": "python",
   "nbconvert_exporter": "python",
   "pygments_lexer": "ipython3",
   "version": "3.7.4"
  }
 },
 "nbformat": 4,
 "nbformat_minor": 2
}
